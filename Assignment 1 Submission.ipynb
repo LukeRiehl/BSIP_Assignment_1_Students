{
 "cells": [
  {
   "cell_type": "code",
   "execution_count": 538,
   "metadata": {},
   "outputs": [],
   "source": [
    "import thinkplot\n",
    "import thinkstats2\n",
    "import pandas as pd\n",
    "import numpy as np\n",
    "import scipy\n",
    "import seaborn as sns\n",
    "from matplotlib import pyplot as plt"
   ]
  },
  {
   "cell_type": "markdown",
   "metadata": {},
   "source": [
    "# Assignment #1 - Basic Data Exploration in Python\n",
    "\n",
    "## Assignment Overview\n",
    "\n",
    "In this assignment you'll load some data into a python notebook, and use some basic functions to do some basic analysis. Each section asks you to either calculate some answers or explore some information found in the data. When generating your answers, try to think about a few factors that can make your code better:\n",
    "<ul>\n",
    "<li> Present the answers clearly. Use the markdown cells, code comments, and formatting to help make your answers readable. One of the features of notebooks is that they allow us to combine code and commentary, and we need to ensure both are readable. Refer to the guide in the guides folder of the exercises workbook for an explaination and examples of different formatting. \n",
    "<li> Make your code clear. It is easy to make sense of small pieces of code, for short periods of time, so if your code makes little sense here, it won't really hurt your ability to find the answers. If you need to come back to it later, or others need to edit it, having code that doesn't make sense is a big issue. Use things like clearly named variables, comments, and spacing to make things readable. Even in this course, if you are looking back to something from 2 months ago for the project, it is far easier to understand code that is cleaned up a little. \n",
    "<li> Structure the code well. If there is some kind of repetitive task, it should likely be moved into a function. If there is something that happens several times, it should be in a loop. Having well structured code makes it easy to reuse stuff later, understand how things work, debug errors, and share code with others. This is something to keep in the back of your minds, right now you may not have much experience to lean on to judge how things should be, as you read, adjust, and write code it will become more clear. \n",
    "</ul>\n",
    "\n",
    "## Peer Evaluation\n",
    "\n",
    "This assignemnt will have a peer evaluation for the grade - you'll each read some other notebooks and evaluate their answers. The reason for this is not (entirely) my personal laziness, we are hoping to accomplish a couple of things:\n",
    "<ul>\n",
    "<li> Quick experience reading notebooks. One of the important skills we need to have is the ability to read examples that we find and adapting it to our scenario. This is practice with data you're now comfortable with.\n",
    "<li> Critically evaluating what makes sense in a data notebook. You know how you attempted to explain your look at the data, how did other people do it? What was better? What was worse?\n",
    "<li> Design is subjective. This will give you a set of opinions that are not mine. You will end up with plenty of feedback of what I think, feadback of others early-on should hopefully help you make things appealing to all and not tailored to me. \n",
    "</ul>\n",
    "Doing this right up front will hopefully help kickstart some of that expericence. \n",
    "\n",
    "### Grading\n",
    "\n",
    "The detailed grading is defined in the marking guide in the Moodle workshop. Note that there's points both for getting a correct answer and for presenting it in a way that makes sense. \n",
    "\n",
    "## Structure\n",
    "\n",
    "Each section contains a set of questions/prompts and a rough framework for your responses. You can change the structure around, just make sure it is readable. What I have there is just a loose guide to help get you started, you're not bound to it. "
   ]
  },
  {
   "cell_type": "markdown",
   "metadata": {},
   "source": [
    "## Load Data\n",
    "\n",
    "Load the labor data into a dataframe. You probably don't want to change this section. "
   ]
  },
  {
   "cell_type": "code",
   "execution_count": 539,
   "metadata": {},
   "outputs": [
    {
     "data": {
      "text/html": [
       "<div>\n",
       "<style scoped>\n",
       "    .dataframe tbody tr th:only-of-type {\n",
       "        vertical-align: middle;\n",
       "    }\n",
       "\n",
       "    .dataframe tbody tr th {\n",
       "        vertical-align: top;\n",
       "    }\n",
       "\n",
       "    .dataframe thead th {\n",
       "        text-align: right;\n",
       "    }\n",
       "</style>\n",
       "<table border=\"1\" class=\"dataframe\">\n",
       "  <thead>\n",
       "    <tr style=\"text-align: right;\">\n",
       "      <th></th>\n",
       "      <th>Age</th>\n",
       "      <th>Eduacation</th>\n",
       "      <th>Race</th>\n",
       "      <th>Hisp</th>\n",
       "      <th>MaritalStatus</th>\n",
       "      <th>Nodeg</th>\n",
       "      <th>Earnings_1974</th>\n",
       "      <th>Earnings_1975</th>\n",
       "      <th>Earnings_1978</th>\n",
       "    </tr>\n",
       "  </thead>\n",
       "  <tbody>\n",
       "    <tr>\n",
       "      <th>0</th>\n",
       "      <td>45</td>\n",
       "      <td>LessThanHighSchool</td>\n",
       "      <td>NotBlack</td>\n",
       "      <td>NotHispanic</td>\n",
       "      <td>Married</td>\n",
       "      <td>1</td>\n",
       "      <td>21516.670</td>\n",
       "      <td>25243.550</td>\n",
       "      <td>25564.670</td>\n",
       "    </tr>\n",
       "    <tr>\n",
       "      <th>1</th>\n",
       "      <td>21</td>\n",
       "      <td>Intermediate</td>\n",
       "      <td>NotBlack</td>\n",
       "      <td>NotHispanic</td>\n",
       "      <td>NotMarried</td>\n",
       "      <td>0</td>\n",
       "      <td>3175.971</td>\n",
       "      <td>5852.565</td>\n",
       "      <td>13496.080</td>\n",
       "    </tr>\n",
       "    <tr>\n",
       "      <th>2</th>\n",
       "      <td>38</td>\n",
       "      <td>HighSchool</td>\n",
       "      <td>NotBlack</td>\n",
       "      <td>NotHispanic</td>\n",
       "      <td>Married</td>\n",
       "      <td>0</td>\n",
       "      <td>23039.020</td>\n",
       "      <td>25130.760</td>\n",
       "      <td>25564.670</td>\n",
       "    </tr>\n",
       "    <tr>\n",
       "      <th>3</th>\n",
       "      <td>48</td>\n",
       "      <td>LessThanHighSchool</td>\n",
       "      <td>NotBlack</td>\n",
       "      <td>NotHispanic</td>\n",
       "      <td>Married</td>\n",
       "      <td>1</td>\n",
       "      <td>24994.370</td>\n",
       "      <td>25243.550</td>\n",
       "      <td>25564.670</td>\n",
       "    </tr>\n",
       "    <tr>\n",
       "      <th>4</th>\n",
       "      <td>18</td>\n",
       "      <td>LessThanHighSchool</td>\n",
       "      <td>NotBlack</td>\n",
       "      <td>NotHispanic</td>\n",
       "      <td>Married</td>\n",
       "      <td>1</td>\n",
       "      <td>1669.295</td>\n",
       "      <td>10727.610</td>\n",
       "      <td>9860.869</td>\n",
       "    </tr>\n",
       "  </tbody>\n",
       "</table>\n",
       "</div>"
      ],
      "text/plain": [
       "   Age          Eduacation      Race         Hisp MaritalStatus  Nodeg  \\\n",
       "0   45  LessThanHighSchool  NotBlack  NotHispanic       Married      1   \n",
       "1   21        Intermediate  NotBlack  NotHispanic    NotMarried      0   \n",
       "2   38          HighSchool  NotBlack  NotHispanic       Married      0   \n",
       "3   48  LessThanHighSchool  NotBlack  NotHispanic       Married      1   \n",
       "4   18  LessThanHighSchool  NotBlack  NotHispanic       Married      1   \n",
       "\n",
       "   Earnings_1974  Earnings_1975  Earnings_1978  \n",
       "0      21516.670      25243.550      25564.670  \n",
       "1       3175.971       5852.565      13496.080  \n",
       "2      23039.020      25130.760      25564.670  \n",
       "3      24994.370      25243.550      25564.670  \n",
       "4       1669.295      10727.610       9860.869  "
      ]
     },
     "execution_count": 539,
     "metadata": {},
     "output_type": "execute_result"
    }
   ],
   "source": [
    "#Load/preview data\n",
    "df = pd.read_csv(\"LabourTrainingEvaluationData.csv\")\n",
    "df.head()"
   ]
  },
  {
   "cell_type": "code",
   "execution_count": 540,
   "metadata": {},
   "outputs": [
    {
     "data": {
      "text/html": [
       "<div>\n",
       "<style scoped>\n",
       "    .dataframe tbody tr th:only-of-type {\n",
       "        vertical-align: middle;\n",
       "    }\n",
       "\n",
       "    .dataframe tbody tr th {\n",
       "        vertical-align: top;\n",
       "    }\n",
       "\n",
       "    .dataframe thead th {\n",
       "        text-align: right;\n",
       "    }\n",
       "</style>\n",
       "<table border=\"1\" class=\"dataframe\">\n",
       "  <thead>\n",
       "    <tr style=\"text-align: right;\">\n",
       "      <th></th>\n",
       "      <th>Age</th>\n",
       "      <th>Nodeg</th>\n",
       "      <th>Earnings_1974</th>\n",
       "      <th>Earnings_1975</th>\n",
       "      <th>Earnings_1978</th>\n",
       "    </tr>\n",
       "  </thead>\n",
       "  <tbody>\n",
       "    <tr>\n",
       "      <th>count</th>\n",
       "      <td>15992.000000</td>\n",
       "      <td>15992.000000</td>\n",
       "      <td>15992.000000</td>\n",
       "      <td>15992.000000</td>\n",
       "      <td>15992.000000</td>\n",
       "    </tr>\n",
       "    <tr>\n",
       "      <th>mean</th>\n",
       "      <td>33.225238</td>\n",
       "      <td>0.295835</td>\n",
       "      <td>14016.800304</td>\n",
       "      <td>13650.803376</td>\n",
       "      <td>14846.659673</td>\n",
       "    </tr>\n",
       "    <tr>\n",
       "      <th>std</th>\n",
       "      <td>11.045216</td>\n",
       "      <td>0.456432</td>\n",
       "      <td>9569.795893</td>\n",
       "      <td>9270.403225</td>\n",
       "      <td>9647.391524</td>\n",
       "    </tr>\n",
       "    <tr>\n",
       "      <th>min</th>\n",
       "      <td>16.000000</td>\n",
       "      <td>0.000000</td>\n",
       "      <td>0.000000</td>\n",
       "      <td>0.000000</td>\n",
       "      <td>0.000000</td>\n",
       "    </tr>\n",
       "    <tr>\n",
       "      <th>25%</th>\n",
       "      <td>24.000000</td>\n",
       "      <td>0.000000</td>\n",
       "      <td>4403.452250</td>\n",
       "      <td>4398.823000</td>\n",
       "      <td>5669.298000</td>\n",
       "    </tr>\n",
       "    <tr>\n",
       "      <th>50%</th>\n",
       "      <td>31.000000</td>\n",
       "      <td>0.000000</td>\n",
       "      <td>15123.580000</td>\n",
       "      <td>14557.110000</td>\n",
       "      <td>16421.975000</td>\n",
       "    </tr>\n",
       "    <tr>\n",
       "      <th>75%</th>\n",
       "      <td>42.000000</td>\n",
       "      <td>1.000000</td>\n",
       "      <td>23584.180000</td>\n",
       "      <td>22923.737500</td>\n",
       "      <td>25564.670000</td>\n",
       "    </tr>\n",
       "    <tr>\n",
       "      <th>max</th>\n",
       "      <td>55.000000</td>\n",
       "      <td>1.000000</td>\n",
       "      <td>25862.320000</td>\n",
       "      <td>25243.550000</td>\n",
       "      <td>25564.670000</td>\n",
       "    </tr>\n",
       "  </tbody>\n",
       "</table>\n",
       "</div>"
      ],
      "text/plain": [
       "                Age         Nodeg  Earnings_1974  Earnings_1975  Earnings_1978\n",
       "count  15992.000000  15992.000000   15992.000000   15992.000000   15992.000000\n",
       "mean      33.225238      0.295835   14016.800304   13650.803376   14846.659673\n",
       "std       11.045216      0.456432    9569.795893    9270.403225    9647.391524\n",
       "min       16.000000      0.000000       0.000000       0.000000       0.000000\n",
       "25%       24.000000      0.000000    4403.452250    4398.823000    5669.298000\n",
       "50%       31.000000      0.000000   15123.580000   14557.110000   16421.975000\n",
       "75%       42.000000      1.000000   23584.180000   22923.737500   25564.670000\n",
       "max       55.000000      1.000000   25862.320000   25243.550000   25564.670000"
      ]
     },
     "execution_count": 540,
     "metadata": {},
     "output_type": "execute_result"
    }
   ],
   "source": [
    "df.describe()"
   ]
  },
  {
   "cell_type": "markdown",
   "metadata": {},
   "source": [
    "## Part 1 - Age\n",
    "\n",
    "<ol>\n",
    "<li> Make and plot a Hist and Pmf for age.\n",
    "<li> What fraction of the people in the data are 51? What fraction are older than 51?\n",
    "<li> What is the median age? \n",
    "<li> Does the distribution of the sample data seem to mirror the working age population?\n",
    "</ol>"
   ]
  },
  {
   "cell_type": "markdown",
   "metadata": {},
   "source": [
    "#### Make and plot a Hist and Pmf for age."
   ]
  },
  {
   "cell_type": "code",
   "execution_count": 541,
   "metadata": {},
   "outputs": [
    {
     "data": {
      "image/png": "[encoded data removed]",
      "text/plain": [
       "<Figure size 432x288 with 1 Axes>"
      ]
     },
     "metadata": {
      "needs_background": "light"
     },
     "output_type": "display_data"
    }
   ],
   "source": [
    "hist = thinkstats2.Hist(round(df[\"Age\"],1), label='Age')\n",
    "thinkplot.Hist(hist)\n",
    "thinkplot.Config(xlabel='Age', ylabel='count')\n",
    "thinkplot.axvline(np.mean(hist), color=\"green\")\n",
    "thinkplot.axvline(np.median(hist), color=\"red\")\n"
   ]
  },
  {
   "cell_type": "code",
   "execution_count": 542,
   "metadata": {},
   "outputs": [
    {
     "data": {
      "image/png": "[encoded data removed]",
      "text/plain": [
       "<Figure size 576x432 with 1 Axes>"
      ]
     },
     "metadata": {
      "needs_background": "light"
     },
     "output_type": "display_data"
    },
    {
     "data": {
      "text/plain": [
       "<Figure size 576x432 with 0 Axes>"
      ]
     },
     "metadata": {},
     "output_type": "display_data"
    }
   ],
   "source": [
    "Age = df['Age']\n",
    "Agepmf = thinkstats2.Pmf(Age)\n",
    "thinkplot.PrePlot(cols=1)\n",
    "thinkplot.Pmfs([Agepmf])\n",
    "thinkplot.Show(xlabel=\"Age\")"
   ]
  },
  {
   "cell_type": "markdown",
   "metadata": {},
   "source": [
    "#### What fraction of the people in the data are 51? What fraction are older than 51?"
   ]
  },
  {
   "cell_type": "code",
   "execution_count": 543,
   "metadata": {},
   "outputs": [
    {
     "name": "stdout",
     "output_type": "stream",
     "text": [
      "There are 314 people that are 51\n"
     ]
    },
    {
     "data": {
      "text/html": [
       "<div>\n",
       "<style scoped>\n",
       "    .dataframe tbody tr th:only-of-type {\n",
       "        vertical-align: middle;\n",
       "    }\n",
       "\n",
       "    .dataframe tbody tr th {\n",
       "        vertical-align: top;\n",
       "    }\n",
       "\n",
       "    .dataframe thead th {\n",
       "        text-align: right;\n",
       "    }\n",
       "</style>\n",
       "<table border=\"1\" class=\"dataframe\">\n",
       "  <thead>\n",
       "    <tr style=\"text-align: right;\">\n",
       "      <th></th>\n",
       "      <th>Age</th>\n",
       "      <th>Nodeg</th>\n",
       "      <th>Earnings_1974</th>\n",
       "      <th>Earnings_1975</th>\n",
       "      <th>Earnings_1978</th>\n",
       "    </tr>\n",
       "  </thead>\n",
       "  <tbody>\n",
       "    <tr>\n",
       "      <th>count</th>\n",
       "      <td>314.0</td>\n",
       "      <td>314.000000</td>\n",
       "      <td>314.000000</td>\n",
       "      <td>314.000000</td>\n",
       "      <td>314.000000</td>\n",
       "    </tr>\n",
       "    <tr>\n",
       "      <th>mean</th>\n",
       "      <td>51.0</td>\n",
       "      <td>0.401274</td>\n",
       "      <td>17752.741126</td>\n",
       "      <td>17091.337595</td>\n",
       "      <td>15987.439020</td>\n",
       "    </tr>\n",
       "    <tr>\n",
       "      <th>std</th>\n",
       "      <td>0.0</td>\n",
       "      <td>0.490939</td>\n",
       "      <td>8810.443519</td>\n",
       "      <td>8699.280625</td>\n",
       "      <td>10165.684651</td>\n",
       "    </tr>\n",
       "    <tr>\n",
       "      <th>min</th>\n",
       "      <td>51.0</td>\n",
       "      <td>0.000000</td>\n",
       "      <td>0.000000</td>\n",
       "      <td>0.000000</td>\n",
       "      <td>0.000000</td>\n",
       "    </tr>\n",
       "    <tr>\n",
       "      <th>25%</th>\n",
       "      <td>51.0</td>\n",
       "      <td>0.000000</td>\n",
       "      <td>12044.107500</td>\n",
       "      <td>11804.937500</td>\n",
       "      <td>6103.379750</td>\n",
       "    </tr>\n",
       "    <tr>\n",
       "      <th>50%</th>\n",
       "      <td>51.0</td>\n",
       "      <td>0.000000</td>\n",
       "      <td>20874.030000</td>\n",
       "      <td>19817.080000</td>\n",
       "      <td>19879.120000</td>\n",
       "    </tr>\n",
       "    <tr>\n",
       "      <th>75%</th>\n",
       "      <td>51.0</td>\n",
       "      <td>1.000000</td>\n",
       "      <td>25862.320000</td>\n",
       "      <td>25243.550000</td>\n",
       "      <td>25564.670000</td>\n",
       "    </tr>\n",
       "    <tr>\n",
       "      <th>max</th>\n",
       "      <td>51.0</td>\n",
       "      <td>1.000000</td>\n",
       "      <td>25862.320000</td>\n",
       "      <td>25243.550000</td>\n",
       "      <td>25564.670000</td>\n",
       "    </tr>\n",
       "  </tbody>\n",
       "</table>\n",
       "</div>"
      ],
      "text/plain": [
       "         Age       Nodeg  Earnings_1974  Earnings_1975  Earnings_1978\n",
       "count  314.0  314.000000     314.000000     314.000000     314.000000\n",
       "mean    51.0    0.401274   17752.741126   17091.337595   15987.439020\n",
       "std      0.0    0.490939    8810.443519    8699.280625   10165.684651\n",
       "min     51.0    0.000000       0.000000       0.000000       0.000000\n",
       "25%     51.0    0.000000   12044.107500   11804.937500    6103.379750\n",
       "50%     51.0    0.000000   20874.030000   19817.080000   19879.120000\n",
       "75%     51.0    1.000000   25862.320000   25243.550000   25564.670000\n",
       "max     51.0    1.000000   25862.320000   25243.550000   25564.670000"
      ]
     },
     "execution_count": 543,
     "metadata": {},
     "output_type": "execute_result"
    }
   ],
   "source": [
    "print('There are 314 people that are 51')\n",
    "df_1 = df[df[\"Age\"] == 51]\n",
    "df_1.describe()\n"
   ]
  },
  {
   "cell_type": "code",
   "execution_count": 544,
   "metadata": {},
   "outputs": [
    {
     "name": "stdout",
     "output_type": "stream",
     "text": [
      "There are 1171 people that are over 51\n"
     ]
    },
    {
     "data": {
      "text/html": [
       "<div>\n",
       "<style scoped>\n",
       "    .dataframe tbody tr th:only-of-type {\n",
       "        vertical-align: middle;\n",
       "    }\n",
       "\n",
       "    .dataframe tbody tr th {\n",
       "        vertical-align: top;\n",
       "    }\n",
       "\n",
       "    .dataframe thead th {\n",
       "        text-align: right;\n",
       "    }\n",
       "</style>\n",
       "<table border=\"1\" class=\"dataframe\">\n",
       "  <thead>\n",
       "    <tr style=\"text-align: right;\">\n",
       "      <th></th>\n",
       "      <th>Age</th>\n",
       "      <th>Nodeg</th>\n",
       "      <th>Earnings_1974</th>\n",
       "      <th>Earnings_1975</th>\n",
       "      <th>Earnings_1978</th>\n",
       "    </tr>\n",
       "  </thead>\n",
       "  <tbody>\n",
       "    <tr>\n",
       "      <th>count</th>\n",
       "      <td>1171.000000</td>\n",
       "      <td>1171.000000</td>\n",
       "      <td>1171.000000</td>\n",
       "      <td>1171.000000</td>\n",
       "      <td>1171.000000</td>\n",
       "    </tr>\n",
       "    <tr>\n",
       "      <th>mean</th>\n",
       "      <td>53.503843</td>\n",
       "      <td>0.428693</td>\n",
       "      <td>16484.214637</td>\n",
       "      <td>15544.594755</td>\n",
       "      <td>14254.840889</td>\n",
       "    </tr>\n",
       "    <tr>\n",
       "      <th>std</th>\n",
       "      <td>1.130287</td>\n",
       "      <td>0.495101</td>\n",
       "      <td>9434.939058</td>\n",
       "      <td>9178.035205</td>\n",
       "      <td>10187.787234</td>\n",
       "    </tr>\n",
       "    <tr>\n",
       "      <th>min</th>\n",
       "      <td>52.000000</td>\n",
       "      <td>0.000000</td>\n",
       "      <td>0.000000</td>\n",
       "      <td>0.000000</td>\n",
       "      <td>0.000000</td>\n",
       "    </tr>\n",
       "    <tr>\n",
       "      <th>25%</th>\n",
       "      <td>52.000000</td>\n",
       "      <td>0.000000</td>\n",
       "      <td>9669.961500</td>\n",
       "      <td>8453.903500</td>\n",
       "      <td>2360.668000</td>\n",
       "    </tr>\n",
       "    <tr>\n",
       "      <th>50%</th>\n",
       "      <td>53.000000</td>\n",
       "      <td>0.000000</td>\n",
       "      <td>19089.140000</td>\n",
       "      <td>17717.030000</td>\n",
       "      <td>15827.930000</td>\n",
       "    </tr>\n",
       "    <tr>\n",
       "      <th>75%</th>\n",
       "      <td>55.000000</td>\n",
       "      <td>1.000000</td>\n",
       "      <td>25862.320000</td>\n",
       "      <td>25243.550000</td>\n",
       "      <td>25564.670000</td>\n",
       "    </tr>\n",
       "    <tr>\n",
       "      <th>max</th>\n",
       "      <td>55.000000</td>\n",
       "      <td>1.000000</td>\n",
       "      <td>25862.320000</td>\n",
       "      <td>25243.550000</td>\n",
       "      <td>25564.670000</td>\n",
       "    </tr>\n",
       "  </tbody>\n",
       "</table>\n",
       "</div>"
      ],
      "text/plain": [
       "               Age        Nodeg  Earnings_1974  Earnings_1975  Earnings_1978\n",
       "count  1171.000000  1171.000000    1171.000000    1171.000000    1171.000000\n",
       "mean     53.503843     0.428693   16484.214637   15544.594755   14254.840889\n",
       "std       1.130287     0.495101    9434.939058    9178.035205   10187.787234\n",
       "min      52.000000     0.000000       0.000000       0.000000       0.000000\n",
       "25%      52.000000     0.000000    9669.961500    8453.903500    2360.668000\n",
       "50%      53.000000     0.000000   19089.140000   17717.030000   15827.930000\n",
       "75%      55.000000     1.000000   25862.320000   25243.550000   25564.670000\n",
       "max      55.000000     1.000000   25862.320000   25243.550000   25564.670000"
      ]
     },
     "execution_count": 544,
     "metadata": {},
     "output_type": "execute_result"
    }
   ],
   "source": [
    "print('There are 1171 people that are over 51')\n",
    "df_1 = df[df[\"Age\"] > 51]\n",
    "df_1.describe()"
   ]
  },
  {
   "cell_type": "markdown",
   "metadata": {},
   "source": [
    "##### What is the median age?"
   ]
  },
  {
   "cell_type": "code",
   "execution_count": 545,
   "metadata": {},
   "outputs": [
    {
     "name": "stdout",
     "output_type": "stream",
     "text": [
      "The Median for Age is:\n",
      "Median: 31.0\n"
     ]
    }
   ],
   "source": [
    "sample_col = df[\"Age\"]\n",
    "print(\"The Median for\", sample_col.name, \"is:\")\n",
    "\n",
    "print(\"Median:\", sample_col.median())"
   ]
  },
  {
   "cell_type": "markdown",
   "metadata": {},
   "source": [
    "##### Does the distribution of the sample data seem to mirror the working age population?"
   ]
  },
  {
   "cell_type": "markdown",
   "metadata": {},
   "source": [
    "##### I would argue that the Data does indeed represent the working age. Looking at the various ages, we know that working age starts at 16 and ends at 55. Most importantly the working age starts to peak at lower ages and maxes out in your 30's. This is representative because we know that most of the time, people work the most when they are in their 30's and not so much when they get closer to retirement."
   ]
  },
  {
   "cell_type": "markdown",
   "metadata": {},
   "source": [
    "### Part 2 - Demographics\n",
    "\n",
    "<ul>\n",
    "<li>Consider some of the demographic features: \n",
    "    <ul>\n",
    "    <li>Education\n",
    "    <li>Race\n",
    "    <li>Hisp\n",
    "    <li>MaritalStatus\n",
    "    <li>Nodeg. \n",
    "    </ul>\n",
    "</ul>\n",
    "<ol>\n",
    "<li>This data came from the United States, does it appear to be a representative sample of the US population?\n",
    "<li>Demonstrate this in some way in your code. \n",
    "</ol>\n",
    "\n",
    "##### Exploring the data..."
   ]
  },
  {
   "cell_type": "code",
   "execution_count": 546,
   "metadata": {},
   "outputs": [
    {
     "name": "stdout",
     "output_type": "stream",
     "text": [
      "Age  Eduacation  Race      Hisp         MaritalStatus  Nodeg  Earnings_1974  Earnings_1975  Earnings_1978\n",
      "33   HighSchool  NotBlack  NotHispanic  Married        0      25862.32       25243.55       25564.67         35\n",
      "32   HighSchool  NotBlack  NotHispanic  Married        0      25862.32       25243.55       25564.67         31\n",
      "34   HighSchool  NotBlack  NotHispanic  Married        0      25862.32       25243.55       25564.67         28\n",
      "43   HighSchool  NotBlack  NotHispanic  Married        0      25862.32       25243.55       25564.67         27\n",
      "38   HighSchool  NotBlack  NotHispanic  Married        0      25862.32       25243.55       25564.67         26\n",
      "                                                                                                             ..\n",
      "26   HighSchool  NotBlack  NotHispanic  Married        0      17615.77       22946.56       23614.07          1\n",
      "                                                              17705.89       20923.50       22196.93          1\n",
      "                                                              17770.55       17666.90       18577.98          1\n",
      "                                                              17986.07       25155.82       25564.67          1\n",
      "55   graduate    NotBlack  NotHispanic  NotMarried     0      21060.16       25243.55       23922.92          1\n",
      "Length: 13990, dtype: int64\n",
      "                Age         Nodeg  Earnings_1974  Earnings_1975  Earnings_1978\n",
      "count  15992.000000  15992.000000   15992.000000   15992.000000   15992.000000\n",
      "mean      33.225238      0.295835   14016.800304   13650.803376   14846.659673\n",
      "std       11.045216      0.456432    9569.795893    9270.403225    9647.391524\n",
      "min       16.000000      0.000000       0.000000       0.000000       0.000000\n",
      "25%       24.000000      0.000000    4403.452250    4398.823000    5669.298000\n",
      "50%       31.000000      0.000000   15123.580000   14557.110000   16421.975000\n",
      "75%       42.000000      1.000000   23584.180000   22923.737500   25564.670000\n",
      "max       55.000000      1.000000   25862.320000   25243.550000   25564.670000\n"
     ]
    }
   ],
   "source": [
    "print(df.value_counts())\n",
    "print(df.describe())\n",
    "\n"
   ]
  },
  {
   "cell_type": "markdown",
   "metadata": {},
   "source": [
    "### Eduacation"
   ]
  },
  {
   "cell_type": "code",
   "execution_count": 547,
   "metadata": {},
   "outputs": [
    {
     "name": "stdout",
     "output_type": "stream",
     "text": [
      "HighSchool            6252\n",
      "LessThanHighSchool    4731\n",
      "Intermediate          2708\n",
      "graduate              1367\n",
      "PostGraduate           934\n",
      "Name: Eduacation, dtype: int64 \n",
      "\n",
      "count          15992\n",
      "unique             5\n",
      "top       HighSchool\n",
      "freq            6252\n",
      "Name: Eduacation, dtype: object\n"
     ]
    }
   ],
   "source": [
    "Edu = df['Eduacation']\n",
    "print(Edu.value_counts(),\"\\n\")\n",
    "print(Edu.describe())\n"
   ]
  },
  {
   "cell_type": "markdown",
   "metadata": {},
   "source": [
    "### Race"
   ]
  },
  {
   "cell_type": "code",
   "execution_count": 548,
   "metadata": {},
   "outputs": [
    {
     "name": "stdout",
     "output_type": "stream",
     "text": [
      "NotBlack    14816\n",
      "black        1176\n",
      "Name: Race, dtype: int64 \n",
      "\n",
      "count        15992\n",
      "unique           2\n",
      "top       NotBlack\n",
      "freq         14816\n",
      "Name: Race, dtype: object\n"
     ]
    }
   ],
   "source": [
    "Race = df['Race']\n",
    "print(Race.value_counts(),\"\\n\")\n",
    "print(Race.describe())"
   ]
  },
  {
   "cell_type": "markdown",
   "metadata": {},
   "source": [
    "### Hispanic"
   ]
  },
  {
   "cell_type": "code",
   "execution_count": 549,
   "metadata": {},
   "outputs": [
    {
     "name": "stdout",
     "output_type": "stream",
     "text": [
      "NotHispanic    14840\n",
      "hispanic        1152\n",
      "Name: Hisp, dtype: int64 \n",
      "\n",
      "count           15992\n",
      "unique              2\n",
      "top       NotHispanic\n",
      "freq            14840\n",
      "Name: Hisp, dtype: object\n"
     ]
    }
   ],
   "source": [
    "Hisp = df['Hisp']\n",
    "print(Hisp.value_counts(),\"\\n\")\n",
    "print(Hisp.describe())"
   ]
  },
  {
   "cell_type": "markdown",
   "metadata": {},
   "source": [
    "### Marital Status"
   ]
  },
  {
   "cell_type": "code",
   "execution_count": 550,
   "metadata": {},
   "outputs": [
    {
     "name": "stdout",
     "output_type": "stream",
     "text": [
      "Married       11382\n",
      "NotMarried     4610\n",
      "Name: MaritalStatus, dtype: int64 \n",
      "\n",
      "count       15992\n",
      "unique          2\n",
      "top       Married\n",
      "freq        11382\n",
      "Name: MaritalStatus, dtype: object\n"
     ]
    }
   ],
   "source": [
    "Marital_Status = df['MaritalStatus']\n",
    "print(Marital_Status.value_counts(),\"\\n\")\n",
    "print(Marital_Status.describe())"
   ]
  },
  {
   "cell_type": "markdown",
   "metadata": {},
   "source": [
    "### Nodeg."
   ]
  },
  {
   "cell_type": "code",
   "execution_count": 551,
   "metadata": {},
   "outputs": [
    {
     "name": "stdout",
     "output_type": "stream",
     "text": [
      "0    11261\n",
      "1     4731\n",
      "Name: Nodeg, dtype: int64 \n",
      "\n",
      "count    15992.000000\n",
      "mean         0.295835\n",
      "std          0.456432\n",
      "min          0.000000\n",
      "25%          0.000000\n",
      "50%          0.000000\n",
      "75%          1.000000\n",
      "max          1.000000\n",
      "Name: Nodeg, dtype: float64\n"
     ]
    }
   ],
   "source": [
    "Nodeg = df['Nodeg']\n",
    "print(Nodeg.value_counts(),\"\\n\")\n",
    "print(Nodeg.describe())\n",
    "\n"
   ]
  },
  {
   "cell_type": "markdown",
   "metadata": {},
   "source": [
    "##### Demographic Conclusion\n"
   ]
  },
  {
   "cell_type": "markdown",
   "metadata": {},
   "source": [
    "##### If we break down each demographic, I would argue as a whole this sample does represent the US working population. Education has a good representation of people being graduated as compared to not graduated, where there is slightly more people being graduated. This is true, as you would expect more people to graduate rather than not. When we look at race, we see that there is way more people that are not black compared to people that are. This is also true for hispanic people. So we can conclude that the data sample does in some way represent the working population in the 70's as you would expect the data to show less people of color working and more white people working. Marital status has way more people married then not. I would imagine this to be true as you would expect people that want to provide for a family will have more jobs as compared to not. And lastly, not having a degree as compared to having one is probably more common because most people do not go to post-secondary after high school."
   ]
  },
  {
   "cell_type": "markdown",
   "metadata": {},
   "source": [
    "### Part 3 - Earnings\n",
    "\n",
    "<ol>\n",
    "<li>Make and plot a graph or graph of your choosing of the 3 earnings values, in order to answer the below question. Identify how the graph gave you your answer.\n",
    "    <ul>\n",
    "    <li>What is one conclusion could you draw from visualizing of the earnings in the different year? Please express it in plain language/non-statistics terms/as though you were explaining to one of your friends what happened to earnings between 1974 and 1978?\n",
    "    </ul>\n",
    "<li>Which has the greatest effect size on 1978 earnings: Race, Hispanic, MaritalStatus, or Nodeg? \n",
    "    <ul>\n",
    "    <li>What could you investigate further in an attempt to explain this?\n",
    "    </ul>\n",
    "    </ul>\n",
    "<li>Are there outliers in the 1978 earnings data? Demonstrate this in some way with your code. \n",
    "    <ul>\n",
    "    <li>What can you infer from the presence of outliers that may impact analysis of this data.\n",
    "    </ul>\n",
    "</ol>"
   ]
  },
  {
   "cell_type": "markdown",
   "metadata": {},
   "source": [
    "##### Plot Earnings Data"
   ]
  },
  {
   "cell_type": "code",
   "execution_count": 552,
   "metadata": {},
   "outputs": [
    {
     "data": {
      "image/png": "[encoded data removed]",
      "text/plain": [
       "<Figure size 576x432 with 1 Axes>"
      ]
     },
     "metadata": {
      "needs_background": "light"
     },
     "output_type": "display_data"
    },
    {
     "data": {
      "text/plain": [
       "<Figure size 576x432 with 0 Axes>"
      ]
     },
     "metadata": {},
     "output_type": "display_data"
    }
   ],
   "source": [
    "Earn1974 = df['Earnings_1974']\n",
    "Earn1975 = df['Earnings_1975']\n",
    "Earn1978 = df['Earnings_1978']\n",
    "\n",
    "Earnings1974pmf = thinkstats2.Pmf(Earn1974)\n",
    "Earnings1975pmf = thinkstats2.Pmf(Earn1975)\n",
    "Earnings1978pmf = thinkstats2.Pmf(Earn1978)\n",
    "\n",
    "thinkplot.PrePlot(cols=1)\n",
    "thinkplot.Pmfs([Earnings1974pmf,Earnings1975pmf,Earnings1978pmf])\n",
    "thinkplot.Show(xlabel=\"Earnings 1974,1975 and 1978\")\n"
   ]
  },
  {
   "cell_type": "markdown",
   "metadata": {},
   "source": [
    "As a conclusion, there seems to be a large jump in the number of people earning near the top end, around $25k. Otherwise the distributions are pretty similar. "
   ]
  },
  {
   "cell_type": "markdown",
   "metadata": {},
   "source": [
    "##### Cohen Effect Sizes\n"
   ]
  },
  {
   "cell_type": "code",
   "execution_count": 553,
   "metadata": {},
   "outputs": [],
   "source": [
    "def CohenEffectSize(group1, group2):\n",
    "\n",
    "    diff = group1.mean() - group2.mean()\n",
    "\n",
    "    var1 = group1.var()\n",
    "    var2 = group2.var()\n",
    "    n1, n2 = len(group1), len(group2)\n",
    "\n",
    "    pooled_var = (n1 * var1 + n2 * var2) / (n1 + n2)\n",
    "    d = diff / np.sqrt(pooled_var)\n",
    "    return d"
   ]
  },
  {
   "cell_type": "markdown",
   "metadata": {},
   "source": [
    "### Race Effect Size"
   ]
  },
  {
   "cell_type": "code",
   "execution_count": 554,
   "metadata": {},
   "outputs": [],
   "source": [
    "NotBlack = df[df[\"Race\"] == 'NotBlack' ]\n",
    "Black = df[df[\"Race\"] != 'NotBlack']"
   ]
  },
  {
   "cell_type": "code",
   "execution_count": 555,
   "metadata": {},
   "outputs": [
    {
     "data": {
      "text/plain": [
       "0.31883255859070525"
      ]
     },
     "execution_count": 555,
     "metadata": {},
     "output_type": "execute_result"
    }
   ],
   "source": [
    "CohenEffectSize(NotBlack[\"Earnings_1978\"], Black[\"Earnings_1978\"])"
   ]
  },
  {
   "cell_type": "markdown",
   "metadata": {},
   "source": [
    "### Hispanic Effect Size"
   ]
  },
  {
   "cell_type": "code",
   "execution_count": 556,
   "metadata": {},
   "outputs": [],
   "source": [
    "NotHispanic = df[df[\"Hisp\"] == 'NotHispanic' ]\n",
    "hispanic = df[df[\"Hisp\"] != 'NotHispanic']"
   ]
  },
  {
   "cell_type": "code",
   "execution_count": 557,
   "metadata": {},
   "outputs": [
    {
     "data": {
      "text/plain": [
       "0.16210284395555566"
      ]
     },
     "execution_count": 557,
     "metadata": {},
     "output_type": "execute_result"
    }
   ],
   "source": [
    "CohenEffectSize(NotHispanic[\"Earnings_1978\"], hispanic[\"Earnings_1978\"])"
   ]
  },
  {
   "cell_type": "markdown",
   "metadata": {},
   "source": [
    "### Marital Status Effect Size"
   ]
  },
  {
   "cell_type": "code",
   "execution_count": 558,
   "metadata": {},
   "outputs": [],
   "source": [
    "NotMarried = df[df[\"MaritalStatus\"] == 'NotMarried' ]\n",
    "Married = df[df[\"MaritalStatus\"] != 'NotMarried' ]"
   ]
  },
  {
   "cell_type": "code",
   "execution_count": 559,
   "metadata": {},
   "outputs": [
    {
     "data": {
      "text/plain": [
       "0.5737396692403472"
      ]
     },
     "execution_count": 559,
     "metadata": {},
     "output_type": "execute_result"
    }
   ],
   "source": [
    "CohenEffectSize(Married[\"Earnings_1978\"], NotMarried[\"Earnings_1978\"])"
   ]
  },
  {
   "cell_type": "markdown",
   "metadata": {},
   "source": [
    "### Nodeg. Effect Size"
   ]
  },
  {
   "cell_type": "code",
   "execution_count": 560,
   "metadata": {},
   "outputs": [],
   "source": [
    "Degree = df[df[\"Nodeg\"] == 1 ]\n",
    "NoDegree = df[df[\"Nodeg\"] != 1 ]"
   ]
  },
  {
   "cell_type": "code",
   "execution_count": 561,
   "metadata": {},
   "outputs": [
    {
     "data": {
      "text/plain": [
       "0.3367928897615812"
      ]
     },
     "execution_count": 561,
     "metadata": {},
     "output_type": "execute_result"
    }
   ],
   "source": [
    "CohenEffectSize(NoDegree[\"Earnings_1978\"], Degree[\"Earnings_1978\"])"
   ]
  },
  {
   "cell_type": "markdown",
   "metadata": {},
   "source": [
    "##### Marital Status is shown to have the greatest effect size. So this shows that depending on whether or not you are married, that decision is more likely to have a role in how much money you make."
   ]
  },
  {
   "cell_type": "markdown",
   "metadata": {},
   "source": [
    "#### What to investigate further"
   ]
  },
  {
   "cell_type": "markdown",
   "metadata": {},
   "source": [
    "##### Marital Status Statistics"
   ]
  },
  {
   "cell_type": "code",
   "execution_count": 562,
   "metadata": {},
   "outputs": [
    {
     "name": "stdout",
     "output_type": "stream",
     "text": [
      "Married: count    11382.000000\n",
      "mean     16390.997167\n",
      "std       9594.652211\n",
      "min          0.000000\n",
      "25%       8446.316000\n",
      "50%      19664.850000\n",
      "75%      25564.670000\n",
      "max      25564.670000\n",
      "Name: Earnings_1978, dtype: float64\n",
      "Not Married: count     4610.000000\n",
      "mean     11033.720550\n",
      "std       8669.880629\n",
      "min          0.000000\n",
      "25%       2965.797500\n",
      "50%       9982.043000\n",
      "75%      17812.145000\n",
      "max      25564.670000\n",
      "Name: Earnings_1978, dtype: float64\n"
     ]
    }
   ],
   "source": [
    "print(\"Married:\", Married[\"Earnings_1978\"].describe())\n",
    "print(\"Not Married:\", NotMarried[\"Earnings_1978\"].describe())"
   ]
  },
  {
   "cell_type": "code",
   "execution_count": 563,
   "metadata": {},
   "outputs": [
    {
     "name": "stderr",
     "output_type": "stream",
     "text": [
      "c:\\Users\\Luke\\anaconda3\\envs\\backup_env\\lib\\site-packages\\seaborn\\distributions.py:2619: FutureWarning: `distplot` is a deprecated function and will be removed in a future version. Please adapt your code to use either `displot` (a figure-level function with similar flexibility) or `histplot` (an axes-level function for histograms).\n",
      "  warnings.warn(msg, FutureWarning)\n",
      "c:\\Users\\Luke\\anaconda3\\envs\\backup_env\\lib\\site-packages\\seaborn\\distributions.py:2619: FutureWarning: `distplot` is a deprecated function and will be removed in a future version. Please adapt your code to use either `displot` (a figure-level function with similar flexibility) or `histplot` (an axes-level function for histograms).\n",
      "  warnings.warn(msg, FutureWarning)\n"
     ]
    },
    {
     "data": {
      "image/png": "[encoded data removed]",
      "text/plain": [
       "<Figure size 432x288 with 1 Axes>"
      ]
     },
     "metadata": {
      "needs_background": "light"
     },
     "output_type": "display_data"
    }
   ],
   "source": [
    "sns.distplot(Married[\"Earnings_1978\"], kde_kws={\"label\":\"Married PDF\"}, hist_kws={\"label\":\"Married\"})\n",
    "sns.distplot(NotMarried[\"Earnings_1978\"], kde_kws={\"label\":\"Not Married PDF\", \"color\":\"red\"}, hist_kws={\"label\":\"Not Married\", \"color\":\"red\"})\n",
    "plt.show()"
   ]
  },
  {
   "cell_type": "markdown",
   "metadata": {},
   "source": [
    "##### Race Statistics"
   ]
  },
  {
   "cell_type": "code",
   "execution_count": 564,
   "metadata": {},
   "outputs": [
    {
     "name": "stdout",
     "output_type": "stream",
     "text": [
      "Black: count     1176.000000\n",
      "mean     12006.682951\n",
      "std       9349.118836\n",
      "min          0.000000\n",
      "25%       2465.217500\n",
      "50%      12115.880000\n",
      "75%      20655.290000\n",
      "max      25564.670000\n",
      "Name: Earnings_1978, dtype: float64\n",
      "Not Black: count    14816.000000\n",
      "mean     15072.078992\n",
      "std       9635.184976\n",
      "min          0.000000\n",
      "25%       5999.200500\n",
      "50%      16894.110000\n",
      "75%      25564.670000\n",
      "max      25564.670000\n",
      "Name: Earnings_1978, dtype: float64\n"
     ]
    }
   ],
   "source": [
    "print(\"Black:\", Black[\"Earnings_1978\"].describe())\n",
    "print(\"Not Black:\", NotBlack[\"Earnings_1978\"].describe())\n"
   ]
  },
  {
   "cell_type": "code",
   "execution_count": 565,
   "metadata": {},
   "outputs": [
    {
     "name": "stderr",
     "output_type": "stream",
     "text": [
      "c:\\Users\\Luke\\anaconda3\\envs\\backup_env\\lib\\site-packages\\seaborn\\distributions.py:2619: FutureWarning: `distplot` is a deprecated function and will be removed in a future version. Please adapt your code to use either `displot` (a figure-level function with similar flexibility) or `histplot` (an axes-level function for histograms).\n",
      "  warnings.warn(msg, FutureWarning)\n",
      "c:\\Users\\Luke\\anaconda3\\envs\\backup_env\\lib\\site-packages\\seaborn\\distributions.py:2619: FutureWarning: `distplot` is a deprecated function and will be removed in a future version. Please adapt your code to use either `displot` (a figure-level function with similar flexibility) or `histplot` (an axes-level function for histograms).\n",
      "  warnings.warn(msg, FutureWarning)\n"
     ]
    },
    {
     "data": {
      "image/png": "[encoded data removed]",
      "text/plain": [
       "<Figure size 432x288 with 1 Axes>"
      ]
     },
     "metadata": {
      "needs_background": "light"
     },
     "output_type": "display_data"
    }
   ],
   "source": [
    "sns.distplot(Black[\"Earnings_1978\"], kde_kws={\"label\":\"Black PDF\"}, hist_kws={\"label\":\"Black\"})\n",
    "sns.distplot(NotBlack[\"Earnings_1978\"], kde_kws={\"label\":\"Not Black PDF\", \"color\":\"red\"}, hist_kws={\"label\":\"NotBlack\", \"color\":\"red\"})\n",
    "plt.show()"
   ]
  },
  {
   "cell_type": "markdown",
   "metadata": {},
   "source": [
    "##### Hispanic Statistics"
   ]
  },
  {
   "cell_type": "code",
   "execution_count": 566,
   "metadata": {},
   "outputs": [
    {
     "name": "stdout",
     "output_type": "stream",
     "text": [
      "Hispanic: count     1152.000000\n",
      "mean     13396.677888\n",
      "std       9023.243588\n",
      "min          0.000000\n",
      "25%       5266.986750\n",
      "50%      13717.740000\n",
      "75%      21944.977500\n",
      "max      25564.670000\n",
      "Name: Earnings_1978, dtype: float64\n",
      "Not Hispanic: count    14840.000000\n",
      "mean     14959.218906\n",
      "std       9685.372409\n",
      "min          0.000000\n",
      "25%       5719.910500\n",
      "50%      16717.520000\n",
      "75%      25564.670000\n",
      "max      25564.670000\n",
      "Name: Earnings_1978, dtype: float64\n"
     ]
    }
   ],
   "source": [
    "print(\"Hispanic:\", hispanic[\"Earnings_1978\"].describe())\n",
    "print(\"Not Hispanic:\", NotHispanic[\"Earnings_1978\"].describe())"
   ]
  },
  {
   "cell_type": "code",
   "execution_count": 567,
   "metadata": {},
   "outputs": [
    {
     "name": "stderr",
     "output_type": "stream",
     "text": [
      "c:\\Users\\Luke\\anaconda3\\envs\\backup_env\\lib\\site-packages\\seaborn\\distributions.py:2619: FutureWarning: `distplot` is a deprecated function and will be removed in a future version. Please adapt your code to use either `displot` (a figure-level function with similar flexibility) or `histplot` (an axes-level function for histograms).\n",
      "  warnings.warn(msg, FutureWarning)\n",
      "c:\\Users\\Luke\\anaconda3\\envs\\backup_env\\lib\\site-packages\\seaborn\\distributions.py:2619: FutureWarning: `distplot` is a deprecated function and will be removed in a future version. Please adapt your code to use either `displot` (a figure-level function with similar flexibility) or `histplot` (an axes-level function for histograms).\n",
      "  warnings.warn(msg, FutureWarning)\n"
     ]
    },
    {
     "data": {
      "image/png": "[encoded data removed]",
      "text/plain": [
       "<Figure size 432x288 with 1 Axes>"
      ]
     },
     "metadata": {
      "needs_background": "light"
     },
     "output_type": "display_data"
    }
   ],
   "source": [
    "sns.distplot(hispanic[\"Earnings_1978\"], kde_kws={\"label\":\"Hispanic PDF\"}, hist_kws={\"label\":\"Hispanoc\"})\n",
    "sns.distplot(NotHispanic[\"Earnings_1978\"], kde_kws={\"label\":\"Not Hispanic PDF\", \"color\":\"red\"}, hist_kws={\"label\":\"Not Hispanic\", \"color\":\"red\"})\n",
    "plt.show()"
   ]
  },
  {
   "cell_type": "markdown",
   "metadata": {},
   "source": [
    "##### Nodeg Statistics"
   ]
  },
  {
   "cell_type": "code",
   "execution_count": 568,
   "metadata": {},
   "outputs": [
    {
     "name": "stdout",
     "output_type": "stream",
     "text": [
      "Degree: count     4731.000000\n",
      "mean     12585.205679\n",
      "std       8996.683952\n",
      "min          0.000000\n",
      "25%       4241.814000\n",
      "50%      12412.900000\n",
      "75%      20807.130000\n",
      "max      25564.670000\n",
      "Name: Earnings_1978, dtype: float64\n",
      "No Degree: count    11261.000000\n",
      "mean     15796.747484\n",
      "std       9753.212109\n",
      "min          0.000000\n",
      "25%       6895.072000\n",
      "50%      18693.240000\n",
      "75%      25564.670000\n",
      "max      25564.670000\n",
      "Name: Earnings_1978, dtype: float64\n"
     ]
    }
   ],
   "source": [
    "print(\"Degree:\", Degree[\"Earnings_1978\"].describe())\n",
    "print(\"No Degree:\", NoDegree[\"Earnings_1978\"].describe())"
   ]
  },
  {
   "cell_type": "code",
   "execution_count": 569,
   "metadata": {},
   "outputs": [
    {
     "name": "stderr",
     "output_type": "stream",
     "text": [
      "c:\\Users\\Luke\\anaconda3\\envs\\backup_env\\lib\\site-packages\\seaborn\\distributions.py:2619: FutureWarning: `distplot` is a deprecated function and will be removed in a future version. Please adapt your code to use either `displot` (a figure-level function with similar flexibility) or `histplot` (an axes-level function for histograms).\n",
      "  warnings.warn(msg, FutureWarning)\n",
      "c:\\Users\\Luke\\anaconda3\\envs\\backup_env\\lib\\site-packages\\seaborn\\distributions.py:2619: FutureWarning: `distplot` is a deprecated function and will be removed in a future version. Please adapt your code to use either `displot` (a figure-level function with similar flexibility) or `histplot` (an axes-level function for histograms).\n",
      "  warnings.warn(msg, FutureWarning)\n"
     ]
    },
    {
     "data": {
      "image/png": "[encoded data removed]",
      "text/plain": [
       "<Figure size 432x288 with 1 Axes>"
      ]
     },
     "metadata": {
      "needs_background": "light"
     },
     "output_type": "display_data"
    }
   ],
   "source": [
    "sns.distplot(Degree[\"Earnings_1978\"], kde_kws={\"label\":\"Degree PDF\"}, hist_kws={\"label\":\"Degree\"})\n",
    "sns.distplot(NoDegree[\"Earnings_1978\"], kde_kws={\"label\":\"No Degree PDF\", \"color\":\"red\"}, hist_kws={\"label\":\"No Degree\", \"color\":\"red\"})\n",
    "plt.show()"
   ]
  },
  {
   "cell_type": "markdown",
   "metadata": {},
   "source": [
    "### Conclusion"
   ]
  },
  {
   "cell_type": "markdown",
   "metadata": {},
   "source": [
    " So if we look at and compare the means of each group we can see theres a bit more of a difference between marital status mean and the other demographics. This shows that there is a bit of a  difference in earnings and whether or not you are married or not married. Furthermore if we plot the values we can see that marital status has the most spread out values as compared to the others. We could also look at other influences to determine why Marital Status plays an important role. Maybe age could be an influence to this, as the more older you are the more likely you are to be married and being old might lead to more people having senior level positions that earn more income. "
   ]
  },
  {
   "cell_type": "code",
   "execution_count": 570,
   "metadata": {},
   "outputs": [],
   "source": [
    "Under_30 = df[df[\"Age\"] <= 30 ]\n",
    "Over_30 = df[df[\"Age\"] >= 30 ]"
   ]
  },
  {
   "cell_type": "code",
   "execution_count": 571,
   "metadata": {},
   "outputs": [
    {
     "name": "stderr",
     "output_type": "stream",
     "text": [
      "c:\\Users\\Luke\\anaconda3\\envs\\backup_env\\lib\\site-packages\\seaborn\\distributions.py:2619: FutureWarning: `distplot` is a deprecated function and will be removed in a future version. Please adapt your code to use either `displot` (a figure-level function with similar flexibility) or `histplot` (an axes-level function for histograms).\n",
      "  warnings.warn(msg, FutureWarning)\n",
      "c:\\Users\\Luke\\anaconda3\\envs\\backup_env\\lib\\site-packages\\seaborn\\distributions.py:2619: FutureWarning: `distplot` is a deprecated function and will be removed in a future version. Please adapt your code to use either `displot` (a figure-level function with similar flexibility) or `histplot` (an axes-level function for histograms).\n",
      "  warnings.warn(msg, FutureWarning)\n"
     ]
    },
    {
     "data": {
      "image/png": "[encoded data removed]",
      "text/plain": [
       "<Figure size 432x288 with 1 Axes>"
      ]
     },
     "metadata": {
      "needs_background": "light"
     },
     "output_type": "display_data"
    }
   ],
   "source": [
    "sns.distplot(Under_30[\"Earnings_1978\"], kde_kws={\"label\":\"Under 30\"}, hist_kws={\"label\":\"Under 30\"})\n",
    "sns.distplot(Over_30[\"Earnings_1978\"], kde_kws={\"label\":\"Over 30\", \"color\":\"red\"}, hist_kws={\"label\":\"Over 30\", \"color\":\"red\"})\n",
    "plt.show()"
   ]
  },
  {
   "cell_type": "markdown",
   "metadata": {},
   "source": [
    "##### As we can see this data shows that people over 30 (red) are more likely to make higher income than people that are under 30 (blue). If we were exploring this further, we could say that this would support our reasoning why being old and married gives us a greater effect size for Marital Status. Older people are more likely to make more money and it just so happens that if you are old you are more likely to be married."
   ]
  },
  {
   "cell_type": "markdown",
   "metadata": {},
   "source": [
    "##### Outliers"
   ]
  },
  {
   "cell_type": "code",
   "execution_count": 572,
   "metadata": {},
   "outputs": [
    {
     "name": "stdout",
     "output_type": "stream",
     "text": [
      "25564.7 4145\n",
      "25561.7 1\n",
      "25560.2 2\n",
      "25555.8 1\n",
      "25551.4 3\n",
      "25549.9 1\n",
      "25548.4 1\n",
      "25546.9 1\n",
      "25545.5 1\n",
      "25539.6 2\n",
      "25535.1 1\n",
      "25530.7 1\n",
      "25529.2 1\n",
      "25527.7 2\n",
      "25526.2 1\n",
      "25523.3 1\n",
      "25518.9 1\n",
      "25515.9 2\n",
      "25514.4 2\n",
      "25510.0 1\n",
      "25508.5 1\n",
      "25505.6 1\n",
      "25504.1 2\n",
      "25499.6 3\n",
      "25498.2 2\n",
      "25487.8 1\n",
      "25484.9 1\n",
      "25483.4 1\n",
      "25480.4 1\n",
      "25479.0 2\n",
      "25477.5 1\n",
      "25474.5 1\n",
      "25471.6 1\n",
      "25467.1 1\n",
      "25461.2 1\n",
      "25458.3 1\n",
      "25453.8 1\n",
      "25452.4 1\n",
      "25442.0 1\n",
      "25437.6 1\n",
      "25434.6 1\n",
      "25430.2 1\n",
      "25427.2 1\n",
      "25419.8 1\n",
      "25418.4 1\n",
      "25416.9 2\n",
      "25412.5 1\n",
      "25406.6 1\n",
      "25403.6 2\n",
      "25399.2 1\n"
     ]
    }
   ],
   "source": [
    "hist = thinkstats2.Hist(round(df[\"Earnings_1978\"],1), label='Earnings_1978')\n",
    "for Earnings_1978, freq in hist.Largest(50):\n",
    "    print(Earnings_1978,freq)"
   ]
  },
  {
   "cell_type": "code",
   "execution_count": 573,
   "metadata": {},
   "outputs": [
    {
     "name": "stdout",
     "output_type": "stream",
     "text": [
      "0.0 2172\n",
      "3.0 1\n",
      "4.4 3\n",
      "10.3 2\n",
      "11.8 1\n",
      "14.8 1\n",
      "16.3 1\n",
      "19.2 1\n",
      "25.1 1\n",
      "26.6 1\n",
      "28.1 2\n",
      "31.0 2\n",
      "32.5 1\n",
      "34.0 1\n",
      "35.5 1\n",
      "36.9 1\n",
      "38.4 1\n",
      "39.9 1\n",
      "41.4 1\n",
      "42.9 1\n",
      "44.3 3\n",
      "47.3 2\n",
      "50.2 2\n",
      "54.7 2\n",
      "59.1 2\n",
      "62.1 1\n",
      "65.0 3\n",
      "66.5 3\n",
      "68.0 1\n",
      "70.9 1\n",
      "72.4 1\n",
      "82.8 2\n",
      "85.7 1\n",
      "91.6 2\n",
      "93.1 2\n",
      "94.6 1\n",
      "96.1 1\n",
      "97.5 2\n",
      "99.0 1\n",
      "100.5 3\n",
      "103.4 2\n",
      "104.9 1\n",
      "106.4 4\n",
      "109.4 1\n",
      "115.3 1\n",
      "116.7 2\n",
      "118.2 1\n",
      "119.7 1\n",
      "121.2 3\n",
      "122.7 1\n"
     ]
    }
   ],
   "source": [
    "for Earnings_1978, freq in hist.Smallest(50):\n",
    "    print(Earnings_1978,freq)"
   ]
  },
  {
   "cell_type": "markdown",
   "metadata": {},
   "source": [
    "##### Outlier Conclusions\n"
   ]
  },
  {
   "cell_type": "markdown",
   "metadata": {},
   "source": [
    "##### We can conclude that there are 4145 people that made $25564. I Would say that it is not reasonable to keep these people in the data because it is very rare to have that many people with the exact same income. The data is probably inaccurate and needs to be readjusted. Also there is 2172 people that made no money. If the data is trying to show income of people who are actually working it wouldnt make sense to keep them in the data."
   ]
  }
 ],
 "metadata": {
  "kernelspec": {
   "display_name": "Python 3.9.12 ('backup_env')",
   "language": "python",
   "name": "python3"
  },
  "language_info": {
   "codemirror_mode": {
    "name": "ipython",
    "version": 3
   },
   "file_extension": ".py",
   "mimetype": "text/x-python",
   "name": "python",
   "nbconvert_exporter": "python",
   "pygments_lexer": "ipython3",
   "version": "3.9.12"
  },
  "orig_nbformat": 4,
  "vscode": {
   "interpreter": {
    "hash": "9609b5c280f9bc4c749d9d85ef94fb536c220c07358446be80324bb378b29e92"
   }
  }
 },
 "nbformat": 4,
 "nbformat_minor": 2
}
